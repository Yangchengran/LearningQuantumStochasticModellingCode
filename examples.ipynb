{
 "cells": [
  {
   "cell_type": "code",
   "execution_count": null,
   "metadata": {},
   "outputs": [],
   "source": [
    "import tranmatrix as tm\n",
    "import optimization as op\n",
    "import numpy as np\n",
    "import pandas as pd\n",
    "import KraOp_Class as koc\n",
    "import Train"
   ]
  },
  {
   "attachments": {},
   "cell_type": "markdown",
   "metadata": {},
   "source": [
    "## Train a process\n"
   ]
  },
  {
   "cell_type": "code",
   "execution_count": 1,
   "metadata": {},
   "outputs": [
    {
     "ename": "NameError",
     "evalue": "name 'data_seq' is not defined",
     "output_type": "error",
     "traceback": [
      "\u001b[1;31m---------------------------------------------------------------------------\u001b[0m",
      "\u001b[1;31mNameError\u001b[0m                                 Traceback (most recent call last)",
      "\u001b[1;32m<ipython-input-1-94be7f3324bc>\u001b[0m in \u001b[0;36m<module>\u001b[1;34m\u001b[0m\n\u001b[0;32m      1\u001b[0m \u001b[0malphabet_size\u001b[0m \u001b[1;33m=\u001b[0m \u001b[1;36m3\u001b[0m\u001b[1;33m\u001b[0m\u001b[1;33m\u001b[0m\u001b[0m\n\u001b[0;32m      2\u001b[0m \u001b[0mdim\u001b[0m \u001b[1;33m=\u001b[0m \u001b[1;36m2\u001b[0m\u001b[1;33m\u001b[0m\u001b[1;33m\u001b[0m\u001b[0m\n\u001b[1;32m----> 3\u001b[1;33m \u001b[0mseq\u001b[0m \u001b[1;33m=\u001b[0m \u001b[0mdata_seq\u001b[0m\u001b[1;33m\u001b[0m\u001b[1;33m\u001b[0m\u001b[0m\n\u001b[0m\u001b[0;32m      4\u001b[0m \u001b[0mmodel\u001b[0m \u001b[1;33m=\u001b[0m \u001b[0mkoc\u001b[0m\u001b[1;33m.\u001b[0m\u001b[0mKrausOperator\u001b[0m\u001b[1;33m(\u001b[0m\u001b[0malphabet_size\u001b[0m\u001b[1;33m,\u001b[0m\u001b[0mdim\u001b[0m\u001b[1;33m)\u001b[0m\u001b[1;33m\u001b[0m\u001b[1;33m\u001b[0m\u001b[0m\n\u001b[0;32m      5\u001b[0m \u001b[0mmodel\u001b[0m \u001b[1;33m=\u001b[0m \u001b[0mTrain\u001b[0m\u001b[1;33m.\u001b[0m\u001b[0mTrain\u001b[0m\u001b[1;33m(\u001b[0m\u001b[0mmodel\u001b[0m\u001b[1;33m,\u001b[0m\u001b[0mseq\u001b[0m\u001b[1;33m,\u001b[0m\u001b[0mrept_time\u001b[0m\u001b[1;33m=\u001b[0m\u001b[1;36m3\u001b[0m\u001b[1;33m)\u001b[0m\u001b[1;33m\u001b[0m\u001b[1;33m\u001b[0m\u001b[0m\n",
      "\u001b[1;31mNameError\u001b[0m: name 'data_seq' is not defined"
     ]
    }
   ],
   "source": [
    "alphabet_size = 3 \n",
    "dim = 2\n",
    "seq = data_seq\n",
    "model = koc.KrausOperator(alphabet_size,dim)\n",
    "model = Train.Train(model,seq,rept_time=3)"
   ]
  },
  {
   "attachments": {},
   "cell_type": "markdown",
   "metadata": {},
   "source": [
    "## Asymmetric process\n",
    " $p$ from 0.1 to 0.9, step =0.1\n",
    " \n",
    " $q$ from 0.1 to 0.0, step =0.1\n"
   ]
  },
  {
   "cell_type": "code",
   "execution_count": null,
   "metadata": {},
   "outputs": [],
   "source": [
    "rows = []\n",
    "Na = 2\n",
    "flength = 1\n",
    "\n",
    "for p in np.arange(0.1,0.91,0.01):\n",
    "\tfor q in np.arange(0.1,0.91,0.1):\n",
    "\t\t\n",
    "\t\ttrans = tm.causal_asymmetry(p,q)\n",
    "\t\t\n",
    "\t\terror = op.optimize_ekld(trans,Na,flength)[0]\n",
    "\t\trows.append([p,q,Na,flength,error])\n",
    "\n",
    "\t\tprint(\"p={},q={},error={}\".format(p,q,error))\n",
    "\n",
    "df = pd.DataFrame(rows, columns=[\"p\",\"q\",\"Na\",\"flength\",\"error\"])\n",
    "df.to_csv(\"./Data/casym_classical_error.csv\",index=False)"
   ]
  },
  {
   "attachments": {},
   "cell_type": "markdown",
   "metadata": {},
   "source": [
    "## Quasi-cycle\n",
    "\n",
    "$p$ from 0.1 to 0.9\n",
    "\n",
    "$\\delta$ from 0.1 to 0.9"
   ]
  },
  {
   "cell_type": "code",
   "execution_count": null,
   "metadata": {},
   "outputs": [],
   "source": [
    "Na = 2\n",
    "flength = 1\n",
    "rows = []\n",
    "for p in np.arange(0.1,0.91,0.01):\n",
    "\tfor delta in np.arange(0.1,0.91,0.1):\n",
    "\t\tif p + delta >1: \n",
    "\t\t\terror = 0.0\n",
    "\t\telse:\n",
    "\t\t\ttrans = tm.qcycle_de(p,delta)\n",
    "\t\t\terror = op.optimize_ekld(trans,Na,flength,opt_time=5)[0]\n",
    "\t\trows.append([p,delta,Na,flength,error])\n",
    "\n",
    "\t\tprint(\"p={},delta={},error={}\".format(p,delta,error))\n",
    "\n",
    "df = pd.DataFrame(rows, columns=[\"p\",\"q\",\"Na\",\"flength\",\"error\"])\n",
    "df.to_csv(\"./Data/qcycle_classical_error.csv\",index=False)"
   ]
  },
  {
   "attachments": {},
   "cell_type": "markdown",
   "metadata": {},
   "source": [
    "## discrete renewal process \n",
    "\n",
    "1. the original dimension from 2 to 5\n",
    "2. the approximate dimension from 2 to 4\n"
   ]
  },
  {
   "cell_type": "code",
   "execution_count": null,
   "metadata": {},
   "outputs": [],
   "source": [
    "flength = 3\n",
    "rows = []\n",
    "for N in range(2,6):\n",
    "\tfor Na in range(2,5):\n",
    "\n",
    "\t\ttrans = tm.dis_renewal(N)\n",
    "\n",
    "\t\tif Na >= N:\n",
    "\t\t\terror = 0.\n",
    "\t\telse:\n",
    "\t\t\terror = op.optimize_ekld(trans,Na,flength)[0]\n",
    "\n",
    "\n",
    "\t\trows.append([N,Na,flength,error])\n",
    "\n",
    "\t\tprint(\"N={},Na={}\".format(N,Na))\n",
    "\n",
    "df = pd.DataFrame(rows, columns=[\"N\",\"Na\",\"flength\",\"error\"])\n",
    "\n",
    "df.to_csv(\"./Data/discrete_renewal_classical_error.csv\",index = False)"
   ]
  },
  {
   "cell_type": "code",
   "execution_count": null,
   "metadata": {},
   "outputs": [],
   "source": []
  }
 ],
 "metadata": {
  "kernelspec": {
   "display_name": "base",
   "language": "python",
   "name": "python3"
  },
  "language_info": {
   "codemirror_mode": {
    "name": "ipython",
    "version": 3
   },
   "file_extension": ".py",
   "mimetype": "text/x-python",
   "name": "python",
   "nbconvert_exporter": "python",
   "pygments_lexer": "ipython3",
   "version": "3.8.5"
  },
  "orig_nbformat": 4,
  "vscode": {
   "interpreter": {
    "hash": "71d61acba4aa204bdf2c541ee50b1b91af3b02379f7985dd8f59b99d68e3dcaa"
   }
  }
 },
 "nbformat": 4,
 "nbformat_minor": 2
}
