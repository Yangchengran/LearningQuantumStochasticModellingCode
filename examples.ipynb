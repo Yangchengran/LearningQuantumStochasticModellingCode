{
 "cells": [
  {
   "cell_type": "code",
   "execution_count": null,
   "metadata": {},
   "outputs": [],
   "source": [
    "import tranmatrix as tm\n",
    "import optimization as op\n",
    "import numpy as np\n",
    "import pandas as pd\n",
    "import KraOp_Class as koc\n",
    "import Train"
   ]
  },
  {
   "attachments": {},
   "cell_type": "markdown",
   "metadata": {},
   "source": [
    "## Train a process\n"
   ]
  },
  {
   "cell_type": "code",
   "execution_count": null,
   "metadata": {},
   "outputs": [],
   "source": [
    "alphabet_size = 3 \n",
    "dim = 2\n",
    "seq = data_seq\n",
    "model = koc.KrausOperator(alphabet_size,dim)\n",
    "model = Train.Train(model,seq,rept_time=3)"
   ]
  },
  {
   "attachments": {},
   "cell_type": "markdown",
   "metadata": {},
   "source": [
    "## Asymmetric process\n",
    " $p$ from 0.1 to 0.9, step =0.1\n",
    " \n",
    " $q$ from 0.1 to 0.0, step =0.1\n"
   ]
  },
  {
   "cell_type": "code",
   "execution_count": null,
   "metadata": {},
   "outputs": [],
   "source": [
    "rows = []\n",
    "Na = 2\n",
    "flength = 1\n",
    "\n",
    "for p in np.arange(0.1,0.91,0.01):\n",
    "\tfor q in np.arange(0.1,0.91,0.1):\n",
    "\t\t\n",
    "\t\ttrans = tm.causal_asymmetry(p,q)\n",
    "\t\t\n",
    "\t\terror = op.optimize_ekld(trans,Na,flength)[0]\n",
    "\t\trows.append([p,q,Na,flength,error])\n",
    "\n",
    "\t\tprint(\"p={},q={},error={}\".format(p,q,error))\n",
    "\n",
    "df = pd.DataFrame(rows, columns=[\"p\",\"q\",\"Na\",\"flength\",\"error\"])\n",
    "df.to_csv(\"./Data/casym_classical_error.csv\",index=False)"
   ]
  },
  {
   "attachments": {},
   "cell_type": "markdown",
   "metadata": {},
   "source": [
    "## Quasi-cycle\n",
    "\n",
    "$p$ from 0.1 to 0.9\n",
    "\n",
    "$\\delta$ from 0.1 to 0.9"
   ]
  },
  {
   "cell_type": "code",
   "execution_count": null,
   "metadata": {},
   "outputs": [],
   "source": [
    "Na = 2\n",
    "flength = 1\n",
    "rows = []\n",
    "for p in np.arange(0.1,0.91,0.01):\n",
    "\tfor delta in np.arange(0.1,0.91,0.1):\n",
    "\t\tif p + delta >1: \n",
    "\t\t\terror = 0.0\n",
    "\t\telse:\n",
    "\t\t\ttrans = tm.qcycle_de(p,delta)\n",
    "\t\t\terror = op.optimize_ekld(trans,Na,flength,opt_time=5)[0]\n",
    "\t\trows.append([p,delta,Na,flength,error])\n",
    "\n",
    "\t\tprint(\"p={},delta={},error={}\".format(p,delta,error))\n",
    "\n",
    "df = pd.DataFrame(rows, columns=[\"p\",\"q\",\"Na\",\"flength\",\"error\"])\n",
    "df.to_csv(\"./Data/qcycle_classical_error.csv\",index=False)"
   ]
  },
  {
   "attachments": {},
   "cell_type": "markdown",
   "metadata": {},
   "source": [
    "## discrete renewal process \n",
    "\n",
    "1. the original dimension from 2 to 5\n",
    "2. the approximate dimension from 2 to 4\n"
   ]
  },
  {
   "cell_type": "code",
   "execution_count": null,
   "metadata": {},
   "outputs": [],
   "source": [
    "flength = 3\n",
    "rows = []\n",
    "for N in range(2,6):\n",
    "\tfor Na in range(2,5):\n",
    "\n",
    "\t\ttrans = tm.dis_renewal(N)\n",
    "\n",
    "\t\tif Na >= N:\n",
    "\t\t\terror = 0.\n",
    "\t\telse:\n",
    "\t\t\terror = op.optimize_ekld(trans,Na,flength)[0]\n",
    "\n",
    "\n",
    "\t\trows.append([N,Na,flength,error])\n",
    "\n",
    "\t\tprint(\"N={},Na={}\".format(N,Na))\n",
    "\n",
    "df = pd.DataFrame(rows, columns=[\"N\",\"Na\",\"flength\",\"error\"])\n",
    "\n",
    "df.to_csv(\"./Data/discrete_renewal_classical_error.csv\",index = False)"
   ]
  },
  {
   "cell_type": "code",
   "execution_count": null,
   "metadata": {},
   "outputs": [],
   "source": []
  }
 ],
 "metadata": {
  "kernelspec": {
   "display_name": "Python 3.9.1 ('stoprocess')",
   "language": "python",
   "name": "python3"
  },
  "language_info": {
   "codemirror_mode": {
    "name": "ipython",
    "version": 3
   },
   "file_extension": ".py",
   "mimetype": "text/x-python",
   "name": "python",
   "nbconvert_exporter": "python",
   "pygments_lexer": "ipython3",
   "version": "3.9.1"
  },
  "orig_nbformat": 4,
  "vscode": {
   "interpreter": {
    "hash": "22c383f258d886b4e7e6e483af5237dae7669b7d1aa44d6bc7f8570093b9ee5a"
   }
  }
 },
 "nbformat": 4,
 "nbformat_minor": 2
}
